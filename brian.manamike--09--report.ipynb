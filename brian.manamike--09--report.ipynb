{
 "cells": [
  {
   "cell_type": "markdown",
   "id": "7d0ca08b",
   "metadata": {},
   "source": [
    "Brian Ayanda Manamike\n",
    "REPORT"
   ]
  },
  {
   "cell_type": "markdown",
   "id": "994603a1",
   "metadata": {},
   "source": [
    "Develop a function check_membership() to determine if a value exists within a list."
   ]
  },
  {
   "cell_type": "code",
   "execution_count": 15,
   "id": "6058ea7f",
   "metadata": {},
   "outputs": [
    {
     "name": "stdout",
     "output_type": "stream",
     "text": [
      "Enter a number : 10\n"
     ]
    },
    {
     "data": {
      "text/plain": [
       "False"
      ]
     },
     "execution_count": 15,
     "metadata": {},
     "output_type": "execute_result"
    }
   ],
   "source": [
    "list1=[1,2,3,4,5,6,7,8]\n",
    "n=int(input(\"Enter a number : \"))\n",
    "def membership_check(n):\n",
    "     \n",
    "        if n in list1:\n",
    "            return True\n",
    "        else:\n",
    "            return False\n",
    "membership_check(n)\n"
   ]
  },
  {
   "cell_type": "code",
   "execution_count": 12,
   "id": "d5d132c7",
   "metadata": {},
   "outputs": [
    {
     "name": "stdout",
     "output_type": "stream",
     "text": [
      "not exist\n"
     ]
    }
   ],
   "source": [
    "lst=[ 1, 6, 3, 5, 3, 4 ] \n",
    "#checking if element 7 is present\n",
    "# in the given list or not\n",
    "i=7 \n",
    "# if element present then return\n",
    "# exist otherwise not exist\n",
    "if i in lst: \n",
    "    print(\"exist\") \n",
    "else: \n",
    "    print(\"not exist\")"
   ]
  },
  {
   "cell_type": "markdown",
   "id": "58b1cfd7",
   "metadata": {},
   "source": [
    "Write check_overlap() to identify if two lists share any elements."
   ]
  },
  {
   "cell_type": "code",
   "execution_count": 28,
   "id": "5f996720",
   "metadata": {},
   "outputs": [
    {
     "name": "stdout",
     "output_type": "stream",
     "text": [
      "[2, 4, 5, 6, 8]  : are an overlaping\n"
     ]
    }
   ],
   "source": [
    "list2=[2,4,5,6,8,10]\n",
    "y=[]\n",
    "def check_overlap(y):\n",
    "    for i in list1:\n",
    "        if i in list2:\n",
    "            y.append(i)\n",
    "        \n",
    "    print(y,\" : are an overlaping\")\n",
    "            \n",
    "check_overlap(y)"
   ]
  },
  {
   "cell_type": "markdown",
   "id": "cfacb83b",
   "metadata": {},
   "source": [
    "Implement repeat_char() that generates a string with a specified character repeated n times."
   ]
  },
  {
   "cell_type": "markdown",
   "id": "8ed4ddc8",
   "metadata": {},
   "source": [
    "Create a function print_histogram() that takes a list of integers and prints a corresponding histogram."
   ]
  },
  {
   "cell_type": "code",
   "execution_count": 32,
   "id": "1c17a858",
   "metadata": {},
   "outputs": [
    {
     "data": {
      "image/png": "[encoded data removed]",
      "text/plain": [
       "<Figure size 432x288 with 1 Axes>"
      ]
     },
     "metadata": {
      "needs_background": "light"
     },
     "output_type": "display_data"
    }
   ],
   "source": [
    "\n",
    "import matplotlib.pyplot as plt\n",
    "import numpy as np\n",
    " \n",
    "# Generate random data for the histogram\n",
    "data = y\n",
    " \n",
    "\n",
    "plt.hist(data, bins=30, color='skyblue', edgecolor='black')\n",
    "\n",
    "plt.xlabel('Values')\n",
    "plt.ylabel('Frequency')\n",
    "plt.title('Basic Histogram')\n",
    "\n",
    "plt.show()\n"
   ]
  },
  {
   "cell_type": "markdown",
   "id": "5ea6f6dc",
   "metadata": {},
   "source": [
    "Write find_max_in_list() to identify the largest number in a list of arbitrary length."
   ]
  },
  {
   "cell_type": "code",
   "execution_count": 39,
   "id": "3fb755b0",
   "metadata": {},
   "outputs": [
    {
     "name": "stdout",
     "output_type": "stream",
     "text": [
      "8\n"
     ]
    }
   ],
   "source": [
    "def max_in_list(list1):\n",
    "\n",
    "    print(max(list1))\n",
    "max_in_list(list1)"
   ]
  },
  {
   "cell_type": "markdown",
   "id": "0bf8d815",
   "metadata": {},
   "source": [
    "Create a program that maps each word in a list to its length."
   ]
  },
  {
   "cell_type": "code",
   "execution_count": 65,
   "id": "91aaa1fb",
   "metadata": {},
   "outputs": [
    {
     "name": "stdout",
     "output_type": "stream",
     "text": [
      "{'man': 3, 'women': 5, 'boy': 3}\n"
     ]
    }
   ],
   "source": [
    "list3=[\"man\",\"women\",\"boy\"]\n",
    "r={}\n",
    "def map_length(r):\n",
    "    for i in list3:\n",
    "         r.update({i : len(i)})\n",
    "    print(r)\n",
    "map_length(r)"
   ]
  },
  {
   "cell_type": "markdown",
   "id": "e1e87039",
   "metadata": {},
   "source": [
    "Implement longest_word() to find the longest word in a list."
   ]
  },
  {
   "cell_type": "code",
   "execution_count": 68,
   "id": "952e3eb9",
   "metadata": {},
   "outputs": [
    {
     "name": "stdout",
     "output_type": "stream",
     "text": [
      "women\n",
      "5\n"
     ]
    }
   ],
   "source": [
    "def longest_word():\n",
    "    max_key = int(max(r))\n",
    "    print(max_key)  # Output: 3\n",
    "    print(r[max_key])\n",
    "longest_word()"
   ]
  },
  {
   "cell_type": "markdown",
   "id": "05c5da28",
   "metadata": {},
   "source": [
    "Develop filter_words() to return words longer than a specified length from a list."
   ]
  },
  {
   "cell_type": "code",
   "execution_count": 81,
   "id": "2801a0cd",
   "metadata": {},
   "outputs": [
    {
     "name": "stdout",
     "output_type": "stream",
     "text": [
      "women\n"
     ]
    }
   ],
   "source": [
    "def filter_words():\n",
    "    for i in r:\n",
    "        if len(i)==3:\n",
    "            pass\n",
    "        else:\n",
    "            print(i)\n",
    "filter_words()\n",
    "        \n",
    "        "
   ]
  },
  {
   "cell_type": "code",
   "execution_count": null,
   "id": "c4106982",
   "metadata": {},
   "outputs": [],
   "source": []
  }
 ],
 "metadata": {
  "kernelspec": {
   "display_name": "Python 3",
   "language": "python",
   "name": "python3"
  },
  "language_info": {
   "codemirror_mode": {
    "name": "ipython",
    "version": 3
   },
   "file_extension": ".py",
   "mimetype": "text/x-python",
   "name": "python",
   "nbconvert_exporter": "python",
   "pygments_lexer": "ipython3",
   "version": "3.9.2"
  }
 },
 "nbformat": 4,
 "nbformat_minor": 5
}
