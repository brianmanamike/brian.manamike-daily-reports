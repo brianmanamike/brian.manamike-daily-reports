{
 "cells": [
  {
   "cell_type": "markdown",
   "id": "45c2717f",
   "metadata": {},
   "source": [
    "Create a function find_max() that accepts two numeric inputs and returns the greater value. Avoid using the built-in max() function."
   ]
  },
  {
   "cell_type": "code",
   "execution_count": 3,
   "id": "e040daec",
   "metadata": {},
   "outputs": [
    {
     "name": "stdout",
     "output_type": "stream",
     "text": [
      "Enter a number : 5\n",
      "Enter another number :9\n",
      "The largest number is : 9\n"
     ]
    }
   ],
   "source": [
    "x=input(\"Enter a number : \")\n",
    "y=input(\"Enter another number :\")\n",
    "\n",
    "def find_max(x,y):\n",
    "    if x>y:\n",
    "        print(\"The largest number is :\",x)\n",
    "    elif y>x:\n",
    "        print(\"The largest number is :\",y)\n",
    "    else:\n",
    "        print(\"Invalid input\")\n",
    "find_max(x,y)"
   ]
  },
  {
   "cell_type": "markdown",
   "id": "ef34ee7a",
   "metadata": {},
   "source": [
    "Develop a function find_max_of_three() to find the maximum among three given numbers."
   ]
  },
  {
   "cell_type": "code",
   "execution_count": 5,
   "id": "673fe8d0",
   "metadata": {},
   "outputs": [
    {
     "name": "stdout",
     "output_type": "stream",
     "text": [
      "Enter first number : 3\n",
      "Enter second number : 5\n",
      "Enter third number : 9\n",
      "the largest number is : 9\n"
     ]
    }
   ],
   "source": [
    "x=input(\"Enter first number : \")\n",
    "y=input(\"Enter second number : \")\n",
    "z=input(\"Enter third number : \")\n",
    "\n",
    "def find_max(x,y,z):\n",
    "    if x>y and x>z:\n",
    "        print(\"The largest number is :\",x)\n",
    "    elif y>x and y>z:\n",
    "        print(\"The largest number is :\",y)\n",
    "    elif z>x and z>y:\n",
    "        print(\"the largest number is :\",z)\n",
    "    else:\n",
    "        print(\"Invalid input\")\n",
    "find_max(x,y,z)"
   ]
  },
  {
   "cell_type": "markdown",
   "id": "f45d0bcc",
   "metadata": {},
   "source": [
    "Write a function to manually calculate the length of a given list or string without using len()."
   ]
  },
  {
   "cell_type": "code",
   "execution_count": 29,
   "id": "512c972f",
   "metadata": {},
   "outputs": [
    {
     "name": "stdout",
     "output_type": "stream",
     "text": [
      "10\n"
     ]
    }
   ],
   "source": [
    "x=[1,2,3,4,5,6,7,8,9]\n",
    "def duplicate_len():\n",
    "    i = 0\n",
    "    for i in x:\n",
    "        i += 1\n",
    "    print(i)\n",
    "duplicate_len()"
   ]
  },
  {
   "cell_type": "markdown",
   "id": "2bfa7231",
   "metadata": {},
   "source": [
    "Implement a function that checks if a given character is a vowel (a, e, i, o, u)."
   ]
  },
  {
   "cell_type": "code",
   "execution_count": 27,
   "id": "366e1996",
   "metadata": {},
   "outputs": [
    {
     "name": "stdout",
     "output_type": "stream",
     "text": [
      "Enter a charecter : a\n",
      "The charecter a is a vowel\n"
     ]
    }
   ],
   "source": [
    "vowel=[\"a\",\"e\",\"i\",\"o\",\"u\"]\n",
    "char=str(input(\"Enter a charecter : \"))\n",
    "def vowel_check(char):\n",
    "    for i in vowel:\n",
    "        if char==i:\n",
    "            print(\"The charecter\",char,\"is a vowel\")\n",
    "            break\n",
    "        else:\n",
    "            print(\"Bad character\")\n",
    "            break\n",
    "vowel_check(char)\n",
    "   "
   ]
  },
  {
   "cell_type": "markdown",
   "id": "006c0f86",
   "metadata": {},
   "source": [
    "Write a function encode() that converts a string into “rövarspråket” (robber’s language) by doubling consonants and placing “o” in between, e.g., “hello” -> “hohelollolo”"
   ]
  },
  {
   "cell_type": "code",
   "execution_count": 74,
   "id": "6fced29c",
   "metadata": {},
   "outputs": [
    {
     "name": "stdout",
     "output_type": "stream",
     "text": [
      "Enter a charecter : e\n",
      "Bad character\n"
     ]
    }
   ],
   "source": [
    "vowel=\"aeiou\"\n",
    "x=str(input(\"Enter a charecter : \"))\n",
    "def vowel_check(char):\n",
    " \n",
    "        if char in vowel:\n",
    "            print(\"The charecter\",char,\"is a vowel\")\n",
    "        \n",
    "        else:\n",
    "            print(\"Bad character\")\n",
    "         \n",
    "vowel_check(char)"
   ]
  },
  {
   "cell_type": "code",
   "execution_count": 76,
   "id": "5bcd54bc",
   "metadata": {},
   "outputs": [
    {
     "name": "stdout",
     "output_type": "stream",
     "text": [
      "hohelollolo\n",
      "PoProrogogroramommominongog isos fofunon!\n",
      "PoPyoytothohonon 3.9\n"
     ]
    }
   ],
   "source": [
    "def encode(text):\n",
    "    vowels = \"aeiou\"  # List of vowels (lowercase)\n",
    "    encoded_text = \"\"\n",
    "\n",
    "    for char in text:\n",
    "        # Check if the character is a consonant (not a vowel and is an alphabet character)\n",
    "        if char.lower() not in vowels and char.isalpha():\n",
    "            encoded_text += char + \"o\" + char  # Encode the consonant\n",
    "        else:\n",
    "            encoded_text += char  # Leave vowels and non-alphabet characters unchanged\n",
    "\n",
    "    return encoded_text\n",
    "\n",
    "# Example usage\n",
    "word = \"hello\"\n",
    "encoded_word = encode(word)\n",
    "print(encoded_word)  # Output: hohelollolo\n",
    "\n",
    "# Additional examples\n",
    "print(encode(\"Programming is fun!\"))  # Output: Progrogrammomomingog isos fofunon!\n",
    "print(encode(\"Python 3.9\"))  # Output: Popythothonon 3.9\n"
   ]
  },
  {
   "cell_type": "code",
   "execution_count": 109,
   "id": "0c7a0436",
   "metadata": {},
   "outputs": [
    {
     "name": "stdout",
     "output_type": "stream",
     "text": [
      "Enter a number (or type 'exit' to finish): 1\n",
      "Enter a number (or type 'exit' to finish): 3\n",
      "Enter a number (or type 'exit' to finish): 4\n",
      "Enter a number (or type 'exit' to finish): 5\n",
      "Enter a number (or type 'exit' to finish): exit\n",
      "The numbers you entered are: [1.0, 3.0, 4.0, 5.0]\n"
     ]
    }
   ],
   "source": [
    "def append_numbers_to_list():\n",
    "    number_list = []  # Initialize an empty list\n",
    "\n",
    "    while True:\n",
    "        user_input = input(\"Enter a number (or type 'exit' to finish): \")\n",
    "        \n",
    "        if user_input.lower() == 'exit':  # Check if the user wants to stop\n",
    "            break\n",
    "        \n",
    "        try:\n",
    "            number = float(user_input)  # Convert input to a float (or int)\n",
    "            number_list.append(number)   # Append the number to the list\n",
    "        except ValueError:\n",
    "            print(\"Please enter a valid number.\")\n",
    "\n",
    "    return number_list\n",
    "\n",
    "# Example usage\n",
    "numbers = append_numbers_to_list()\n",
    "print(\"The numbers you entered are:\", numbers)\n"
   ]
  },
  {
   "cell_type": "code",
   "execution_count": 116,
   "id": "a320ad50",
   "metadata": {},
   "outputs": [
    {
     "name": "stdout",
     "output_type": "stream",
     "text": [
      "13.0\n"
     ]
    }
   ],
   "source": [
    "#sum=0\n",
    "\n",
    "def sum_and_multiplication():\n",
    "   \n",
    "   \n",
    "    sum=0\n",
    "    for i in numbers:\n",
    "             sum+=i\n",
    "    print(sum) \n",
    "sum_and_multiplication()"
   ]
  },
  {
   "cell_type": "code",
   "execution_count": 120,
   "id": "48628cf7",
   "metadata": {},
   "outputs": [
    {
     "name": "stdout",
     "output_type": "stream",
     "text": [
      "60.0\n"
     ]
    }
   ],
   "source": [
    "def multiplication():\n",
    "   \n",
    "\n",
    "    prod=1\n",
    "    for i in numbers:\n",
    "        prod*=i\n",
    "    print(prod)\n",
    "    \n",
    "multiplication()"
   ]
  },
  {
   "cell_type": "code",
   "execution_count": 128,
   "id": "8a5af5a9",
   "metadata": {},
   "outputs": [
    {
     "name": "stdout",
     "output_type": "stream",
     "text": [
      "Enter a string : brian\n",
      "nairb\n"
     ]
    }
   ],
   "source": [
    "x=input(\"Enter a string : \")\n",
    "def reverse(x):\n",
    "    output = x[::-1]\n",
    "    print(output)\n",
    "reverse(x)"
   ]
  },
  {
   "cell_type": "code",
   "execution_count": 135,
   "id": "fdcf53ef",
   "metadata": {},
   "outputs": [
    {
     "name": "stdout",
     "output_type": "stream",
     "text": [
      "Enter a string : wow\n",
      "wow\n",
      "It is a palindrome\n"
     ]
    }
   ],
   "source": [
    "y=input(\"Enter a string : \")\n",
    "output = y[::-1]\n",
    "print(output)\n",
    "def palindrome_check(y):\n",
    "    \n",
    "    if y == output:\n",
    "        print(\"It is a palindrome\")\n",
    "    else:\n",
    "        print(\"Not a palindrome\")\n",
    "palindrome_check(y)"
   ]
  },
  {
   "cell_type": "code",
   "execution_count": null,
   "id": "56d1bb7d",
   "metadata": {},
   "outputs": [],
   "source": []
  },
  {
   "cell_type": "code",
   "execution_count": null,
   "id": "9ccc7bbd",
   "metadata": {},
   "outputs": [],
   "source": []
  }
 ],
 "metadata": {
  "kernelspec": {
   "display_name": "Python 3",
   "language": "python",
   "name": "python3"
  },
  "language_info": {
   "codemirror_mode": {
    "name": "ipython",
    "version": 3
   },
   "file_extension": ".py",
   "mimetype": "text/x-python",
   "name": "python",
   "nbconvert_exporter": "python",
   "pygments_lexer": "ipython3",
   "version": "3.9.2"
  }
 },
 "nbformat": 4,
 "nbformat_minor": 5
}
