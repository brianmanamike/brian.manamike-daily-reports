{
 "cells": [
  {
   "cell_type": "markdown",
   "id": "5625a907",
   "metadata": {},
   "source": [
    "# Brian Ayanda Manamike\n",
    "# REPORT NUMBER 5"
   ]
  },
  {
   "cell_type": "markdown",
   "id": "75e149c8",
   "metadata": {},
   "source": [
    "Number 1\n"
   ]
  },
  {
   "cell_type": "code",
   "execution_count": 2,
   "id": "2a4e3ba6",
   "metadata": {},
   "outputs": [
    {
     "name": "stdout",
     "output_type": "stream",
     "text": [
      "Enter a natural number n: 7\n",
      "The result of the expression is: 18\n"
     ]
    }
   ],
   "source": [
    "\n",
    "n = int(input(\"Enter a natural number n: \"))\n",
    "\n",
    "total_sum = 0  \n",
    "\n",
    "for i in range(n):\n",
    "    if i % 2 != 0: \n",
    "        total_sum += (i + 3)  \n",
    "\n",
    "\n",
    "print(f\"The result of the expression is: {total_sum}\")\n"
   ]
  },
  {
   "cell_type": "markdown",
   "id": "41f1a1b6",
   "metadata": {},
   "source": [
    "Number 1 (b)"
   ]
  },
  {
   "cell_type": "code",
   "execution_count": 3,
   "id": "44d55e8e",
   "metadata": {},
   "outputs": [
    {
     "name": "stdout",
     "output_type": "stream",
     "text": [
      "Enter a natural number n: 8\n",
      "The result of the product is: 945\n"
     ]
    }
   ],
   "source": [
    "\n",
    "n = int(input(\"Enter a natural number n: \"))\n",
    "\n",
    "product = 1 \n",
    "even_found = False \n",
    "\n",
    "\n",
    "for i in range(n):\n",
    "    if i % 2 == 0:  \n",
    "        product *= (i + 3)  \n",
    "        even_found = True   \n",
    "\n",
    "\n",
    "if even_found:\n",
    "    print(f\"The result of the product is: {product}\")\n",
    "else:\n",
    "    print(\"No even numbers found in the specified range.\")\n"
   ]
  },
  {
   "cell_type": "markdown",
   "id": "8b234a10",
   "metadata": {},
   "source": [
    "Number 2"
   ]
  },
  {
   "cell_type": "code",
   "execution_count": 4,
   "id": "a0d8cd9f",
   "metadata": {},
   "outputs": [
    {
     "name": "stdout",
     "output_type": "stream",
     "text": [
      "Enter the number of the day of the week (0 to 6): 1\n",
      "Tuesday\n"
     ]
    }
   ],
   "source": [
    "\n",
    "day_number = int(input(\"Enter the number of the day of the week (0 to 6): \"))\n",
    "\n",
    "\n",
    "if day_number == 0:\n",
    "    print(\"Monday\")\n",
    "elif day_number == 1:\n",
    "    print(\"Tuesday\")\n",
    "elif day_number == 2:\n",
    "    print(\"Wednesday\")\n",
    "elif day_number == 3:\n",
    "    print(\"Thursday\")\n",
    "elif day_number == 4:\n",
    "    print(\"Friday\")\n",
    "elif day_number == 5 or day_number == 6:\n",
    "    print(\"Weekend\")\n",
    "else:\n",
    "    print(\"Invalid input. Please enter a number between 0 and 6.\")\n"
   ]
  },
  {
   "cell_type": "markdown",
   "id": "cea323e4",
   "metadata": {},
   "source": [
    "Number 3"
   ]
  },
  {
   "cell_type": "code",
   "execution_count": 5,
   "id": "282c175e",
   "metadata": {},
   "outputs": [
    {
     "name": "stdout",
     "output_type": "stream",
     "text": [
      "Enter the month number (0 to 11): 2\n",
      "The month number 2 has 31 days.\n"
     ]
    }
   ],
   "source": [
    "\n",
    "month_number = int(input(\"Enter the month number (0 to 11): \"))\n",
    "\n",
    "# Determine the number of days in the given month\n",
    "if month_number == 0:  # January\n",
    "    days = 31\n",
    "elif month_number == 1:  # February\n",
    "    days = 28\n",
    "elif month_number == 2:  # March\n",
    "    days = 31\n",
    "elif month_number == 3:  # April\n",
    "    days = 30\n",
    "elif month_number == 4:  # May\n",
    "    days = 31\n",
    "elif month_number == 5:  # June\n",
    "    days = 30\n",
    "elif month_number == 6:  # July\n",
    "    days = 31\n",
    "elif month_number == 7:  # August\n",
    "    days = 31\n",
    "elif month_number == 8:  # September\n",
    "    days = 30\n",
    "elif month_number == 9:  # October\n",
    "    days = 31\n",
    "elif month_number == 10:  # November\n",
    "    days = 30\n",
    "elif month_number == 11:  # December\n",
    "    days = 31\n",
    "else:\n",
    "    print(\"Invalid input. Please enter a number between 0 and 11.\")\n",
    "    exit()  # Exit if the input is invalid\n",
    "\n",
    "# Print the number of days in the month\n",
    "print(f\"The month number {month_number} has {days} days.\")\n"
   ]
  },
  {
   "cell_type": "markdown",
   "id": "b636583f",
   "metadata": {},
   "source": [
    "Number 4"
   ]
  },
  {
   "cell_type": "code",
   "execution_count": 6,
   "id": "b0cb637b",
   "metadata": {},
   "outputs": [
    {
     "name": "stdout",
     "output_type": "stream",
     "text": [
      "Enter the first number (a0): 1\n",
      "Enter the second number (a1): 2\n",
      "The first 15 terms of the Fibonacci sequence are:\n",
      "1\n",
      "2\n",
      "3\n",
      "5\n",
      "8\n",
      "13\n",
      "21\n",
      "34\n",
      "55\n",
      "89\n",
      "144\n",
      "233\n",
      "377\n",
      "610\n",
      "987\n"
     ]
    }
   ],
   "source": [
    "\n",
    "a0 = int(input(\"Enter the first number (a0): \"))\n",
    "a1 = int(input(\"Enter the second number (a1): \"))\n",
    "\n",
    "\n",
    "fibonacci_sequence = [a0, a1]\n",
    "\n",
    "for n in range(2, 15):\n",
    "    next_term = fibonacci_sequence[n-1] + fibonacci_sequence[n-2]\n",
    "    fibonacci_sequence.append(next_term)\n",
    "\n",
    "\n",
    "print(\"The first 15 terms of the Fibonacci sequence are:\")\n",
    "for term in fibonacci_sequence:\n",
    "    print(term)\n"
   ]
  },
  {
   "cell_type": "markdown",
   "id": "baec72b6",
   "metadata": {},
   "source": [
    "Number 5"
   ]
  },
  {
   "cell_type": "code",
   "execution_count": 7,
   "id": "b67a2e05",
   "metadata": {},
   "outputs": [
    {
     "name": "stdout",
     "output_type": "stream",
     "text": [
      "Enter the first number (x0): 1\n",
      "Enter the second number (x1): 2\n",
      "The first 30 terms of the sequence are:\n",
      "1\n",
      "2\n",
      "4.0\n",
      "8.0\n",
      "16.0\n",
      "32.0\n",
      "64.0\n",
      "128.0\n",
      "256.0\n",
      "512.0\n",
      "1024.0\n",
      "2048.0\n",
      "4096.0\n",
      "8192.0\n",
      "16384.0\n",
      "32768.0\n",
      "65536.0\n",
      "131072.0\n",
      "262144.0\n",
      "524288.0\n",
      "1048576.0\n",
      "2097152.0\n",
      "4194304.0\n",
      "8388608.0\n",
      "16777216.0\n",
      "33554432.0\n",
      "67108864.0\n",
      "134217728.0\n",
      "268435456.0\n",
      "536870912.0\n"
     ]
    }
   ],
   "source": [
    "\n",
    "x0 = int(input(\"Enter the first number (x0): \"))\n",
    "x1 = int(input(\"Enter the second number (x1): \"))\n",
    "\n",
    "sequence = [x0, x1]\n",
    "\n",
    "for n in range(2, 30):\n",
    "    next_term = (sequence[n-1] + 6 * sequence[n-2]) / 2\n",
    "    sequence.append(next_term)\n",
    "\n",
    "\n",
    "print(\"The first 30 terms of the sequence are:\")\n",
    "for term in sequence:\n",
    "    print(term)\n"
   ]
  },
  {
   "cell_type": "markdown",
   "id": "85f08fb9",
   "metadata": {},
   "source": [
    "Number 6"
   ]
  },
  {
   "cell_type": "code",
   "execution_count": 8,
   "id": "71c7548d",
   "metadata": {},
   "outputs": [
    {
     "name": "stdout",
     "output_type": "stream",
     "text": [
      "Enter a year: 2020\n",
      "2020 is a leap year.\n"
     ]
    }
   ],
   "source": [
    "\n",
    "year = int(input(\"Enter a year: \"))\n",
    "\n",
    "\n",
    "if (year % 4 == 0 and year % 100 != 0) or (year % 400 == 0):\n",
    "    print(f\"{year} is a leap year.\")\n",
    "else:\n",
    "    print(f\"{year} is not a leap year.\")\n"
   ]
  },
  {
   "cell_type": "markdown",
   "id": "729d0c9a",
   "metadata": {},
   "source": [
    "Number 7"
   ]
  },
  {
   "cell_type": "code",
   "execution_count": 10,
   "id": "564d20c0",
   "metadata": {},
   "outputs": [
    {
     "name": "stdout",
     "output_type": "stream",
     "text": [
      "Enter a natural number n: 5\n",
      "The sum of squares of the first 5 natural numbers is: 55\n"
     ]
    }
   ],
   "source": [
    "\n",
    "n = int(input(\"Enter a natural number n: \"))\n",
    "\n",
    "\n",
    "sum_of_squares = 0\n",
    "\n",
    "for i in range(1, n+1):\n",
    "    sum_of_squares += i**2\n",
    "\n",
    "\n",
    "print(f\"The sum of squares of the first {n} natural numbers is: {sum_of_squares}\")\n"
   ]
  },
  {
   "cell_type": "code",
   "execution_count": 11,
   "id": "67c35a2e",
   "metadata": {},
   "outputs": [
    {
     "name": "stdout",
     "output_type": "stream",
     "text": [
      "Enter a natural number n: 10\n",
      "The sum of squares of the first 10 natural numbers is: 385\n"
     ]
    }
   ],
   "source": [
    "\n",
    "n = int(input(\"Enter a natural number n: \"))\n",
    "sum_of_squares = 0\n",
    "i = 1\n",
    "\n",
    "while i <= n:\n",
    "    sum_of_squares += i**2\n",
    "    i += 1\n",
    "\n",
    "print(f\"The sum of squares of the first {n} natural numbers is: {sum_of_squares}\")\n"
   ]
  },
  {
   "cell_type": "markdown",
   "id": "10382884",
   "metadata": {},
   "source": [
    "Number 8"
   ]
  },
  {
   "cell_type": "code",
   "execution_count": 12,
   "id": "a6a76771",
   "metadata": {},
   "outputs": [
    {
     "name": "stdout",
     "output_type": "stream",
     "text": [
      "Enter a natural number: 50\n",
      "The divisors of 50 are: [1, 2, 5, 10, 25, 50]\n"
     ]
    }
   ],
   "source": [
    "\n",
    "n = int(input(\"Enter a natural number: \"))\n",
    "divisors = []\n",
    "\n",
    "for i in range(1, n+1):\n",
    "    if n % i == 0:\n",
    "        divisors.append(i)\n",
    "\n",
    "print(f\"The divisors of {n} are: {divisors}\")\n"
   ]
  },
  {
   "cell_type": "markdown",
   "id": "d9e2d1b7",
   "metadata": {},
   "source": [
    "Number 9"
   ]
  },
  {
   "cell_type": "code",
   "execution_count": 13,
   "id": "e9f2c498",
   "metadata": {},
   "outputs": [
    {
     "name": "stdout",
     "output_type": "stream",
     "text": [
      "Enter an integer number: 10\n",
      "The prime factors are: [2, 5]\n"
     ]
    }
   ],
   "source": [
    "\n",
    "n = int(input(\"Enter an integer number: \"))\n",
    "\n",
    "\n",
    "prime_factors = []\n",
    "\n",
    "while n % 2 == 0:\n",
    "    prime_factors.append(2)\n",
    "    n //= 2\n",
    "\n",
    "\n",
    "factor = 3\n",
    "while factor * factor <= n:\n",
    "    while n % factor == 0:\n",
    "        prime_factors.append(factor)\n",
    "        n //= factor\n",
    "    factor += 2\n",
    "\n",
    "\n",
    "if n > 2:\n",
    "    prime_factors.append(n)\n",
    "\n",
    "\n",
    "print(f\"The prime factors are: {prime_factors}\")\n"
   ]
  },
  {
   "cell_type": "code",
   "execution_count": 14,
   "id": "a70872ac",
   "metadata": {},
   "outputs": [
    {
     "name": "stdout",
     "output_type": "stream",
     "text": [
      "Enter a number between 0 and 9: 7\n",
      "Enter the number N (up to which the multiplication table should go): 40\n",
      "Multiplication table for 7 up to 40:\n",
      "7 x 1 = 7\n",
      "7 x 2 = 14\n",
      "7 x 3 = 21\n",
      "7 x 4 = 28\n",
      "7 x 5 = 35\n",
      "7 x 6 = 42\n",
      "7 x 7 = 49\n",
      "7 x 8 = 56\n",
      "7 x 9 = 63\n",
      "7 x 10 = 70\n",
      "7 x 11 = 77\n",
      "7 x 12 = 84\n",
      "7 x 13 = 91\n",
      "7 x 14 = 98\n",
      "7 x 15 = 105\n",
      "7 x 16 = 112\n",
      "7 x 17 = 119\n",
      "7 x 18 = 126\n",
      "7 x 19 = 133\n",
      "7 x 20 = 140\n",
      "7 x 21 = 147\n",
      "7 x 22 = 154\n",
      "7 x 23 = 161\n",
      "7 x 24 = 168\n",
      "7 x 25 = 175\n",
      "7 x 26 = 182\n",
      "7 x 27 = 189\n",
      "7 x 28 = 196\n",
      "7 x 29 = 203\n",
      "7 x 30 = 210\n",
      "7 x 31 = 217\n",
      "7 x 32 = 224\n",
      "7 x 33 = 231\n",
      "7 x 34 = 238\n",
      "7 x 35 = 245\n",
      "7 x 36 = 252\n",
      "7 x 37 = 259\n",
      "7 x 38 = 266\n",
      "7 x 39 = 273\n",
      "7 x 40 = 280\n"
     ]
    }
   ],
   "source": [
    "\n",
    "n = int(input(\"Enter a number between 0 and 9: \"))\n",
    "\n",
    "\n",
    "if n < 0 or n > 9:\n",
    "    print(\"Please enter a valid number between 0 and 9.\")\n",
    "    exit()\n",
    "\n",
    "\n",
    "N = int(input(\"Enter the number N (up to which the multiplication table should go): \"))\n",
    "\n",
    "print(f\"Multiplication table for {n} up to {N}:\")\n",
    "for i in range(1, N + 1):\n",
    "    print(f\"{n} x {i} = {n * i}\")\n"
   ]
  },
  {
   "cell_type": "code",
   "execution_count": 15,
   "id": "f7830d95",
   "metadata": {},
   "outputs": [
    {
     "name": "stdout",
     "output_type": "stream",
     "text": [
      "0\n",
      "3\n",
      "6\n",
      "7\n",
      "9\n",
      "11\n",
      "12\n",
      "14\n",
      "15\n",
      "18\n",
      "21\n",
      "22\n",
      "24\n",
      "27\n",
      "28\n",
      "30\n",
      "33\n",
      "35\n",
      "36\n",
      "39\n"
     ]
    }
   ],
   "source": [
    "\n",
    "for i in range(0, 41):\n",
    " \n",
    "    if i % 3 == 0 or i % 7 == 0 or i % 11 == 0:\n",
    "        print(i)\n"
   ]
  },
  {
   "cell_type": "code",
   "execution_count": 16,
   "id": "770d1d66",
   "metadata": {},
   "outputs": [
    {
     "name": "stdout",
     "output_type": "stream",
     "text": [
      "Enter a float number: 2.1\n",
      "The floor of 2.1 is: 2\n"
     ]
    }
   ],
   "source": [
    "\n",
    "x = float(input(\"Enter a float number: \"))\n",
    "\n",
    "\n",
    "floor_x = int(x) if x >= 0 else int(x) - 1\n",
    "\n",
    "\n",
    "print(f\"The floor of {x} is: {floor_x}\")\n"
   ]
  },
  {
   "cell_type": "code",
   "execution_count": 17,
   "id": "e29e2d87",
   "metadata": {},
   "outputs": [
    {
     "name": "stdout",
     "output_type": "stream",
     "text": [
      "Enter the x-coordinate (or 'q' to quit): 2\n",
      "Enter the y-coordinate (or 'q' to quit): 3\n",
      "The point is in the 1st quadrant.\n",
      "Do you want to check another point? (yes to continue, q to quit): q\n",
      "Exiting the program.\n"
     ]
    }
   ],
   "source": [
    "\n",
    "while True:\n",
    "   \n",
    "    x = float(input(\"Enter the x-coordinate (or 'q' to quit): \"))\n",
    "    y = float(input(\"Enter the y-coordinate (or 'q' to quit): \"))\n",
    "\n",
    " \n",
    "    if x == 0 and y == 0:\n",
    "        print(\"The point is at the origin.\")\n",
    "    elif x == 0:\n",
    "        print(\"The point lies on the y-axis.\")\n",
    "    elif y == 0:\n",
    "        print(\"The point lies on the x-axis.\")\n",
    "    elif x > 0 and y > 0:\n",
    "        print(\"The point is in the 1st quadrant.\")\n",
    "    elif x < 0 and y > 0:\n",
    "        print(\"The point is in the 2nd quadrant.\")\n",
    "    elif x < 0 and y < 0:\n",
    "        print(\"The point is in the 3rd quadrant.\")\n",
    "    elif x > 0 and y < 0:\n",
    "        print(\"The point is in the 4th quadrant.\")\n",
    "    \n",
    " \n",
    "    cont = input(\"Do you want to check another point? (yes to continue, q to quit): \")\n",
    "    if cont.lower() == 'q':\n",
    "        print(\"Exiting the program.\")\n",
    "        break\n"
   ]
  },
  {
   "cell_type": "code",
   "execution_count": 18,
   "id": "2065948f",
   "metadata": {},
   "outputs": [
    {
     "name": "stdout",
     "output_type": "stream",
     "text": [
      "Enter an integer number between 0 and 9 (inclusive): 7\n",
      "Enter an integer number between 0 and 255 (inclusive): 50\n",
      "Multiples of 7 between 0 and 50:\n",
      "0\n",
      "7\n",
      "14\n",
      "21\n",
      "28\n",
      "35\n",
      "42\n",
      "49\n",
      "Do you want to continue? (yes/no): yes\n",
      "Enter an integer number between 0 and 9 (inclusive): \n",
      "Invalid input. Please enter a valid integer.\n",
      "Enter an integer number between 0 and 9 (inclusive): \n",
      "Invalid input. Please enter a valid integer.\n",
      "Enter an integer number between 0 and 9 (inclusive): \n",
      "Invalid input. Please enter a valid integer.\n",
      "Enter an integer number between 0 and 9 (inclusive): \n",
      "Invalid input. Please enter a valid integer.\n"
     ]
    },
    {
     "ename": "KeyboardInterrupt",
     "evalue": "Interrupted by user",
     "output_type": "error",
     "traceback": [
      "\u001b[0;31m---------------------------------------------------------------------------\u001b[0m",
      "\u001b[0;31mKeyboardInterrupt\u001b[0m                         Traceback (most recent call last)",
      "\u001b[0;32m<ipython-input-18-a602180fc641>\u001b[0m in \u001b[0;36m<module>\u001b[0;34m\u001b[0m\n\u001b[1;32m     35\u001b[0m \u001b[0;34m\u001b[0m\u001b[0m\n\u001b[1;32m     36\u001b[0m \u001b[0;32mif\u001b[0m \u001b[0m__name__\u001b[0m \u001b[0;34m==\u001b[0m \u001b[0;34m\"__main__\"\u001b[0m\u001b[0;34m:\u001b[0m\u001b[0;34m\u001b[0m\u001b[0;34m\u001b[0m\u001b[0m\n\u001b[0;32m---> 37\u001b[0;31m     \u001b[0mmain\u001b[0m\u001b[0;34m(\u001b[0m\u001b[0;34m)\u001b[0m\u001b[0;34m\u001b[0m\u001b[0;34m\u001b[0m\u001b[0m\n\u001b[0m",
      "\u001b[0;32m<ipython-input-18-a602180fc641>\u001b[0m in \u001b[0;36mmain\u001b[0;34m()\u001b[0m\n\u001b[1;32m      4\u001b[0m         \u001b[0;32mwhile\u001b[0m \u001b[0;32mTrue\u001b[0m\u001b[0;34m:\u001b[0m\u001b[0;34m\u001b[0m\u001b[0;34m\u001b[0m\u001b[0m\n\u001b[1;32m      5\u001b[0m             \u001b[0;32mtry\u001b[0m\u001b[0;34m:\u001b[0m\u001b[0;34m\u001b[0m\u001b[0;34m\u001b[0m\u001b[0m\n\u001b[0;32m----> 6\u001b[0;31m                 \u001b[0mx\u001b[0m \u001b[0;34m=\u001b[0m \u001b[0mint\u001b[0m\u001b[0;34m(\u001b[0m\u001b[0minput\u001b[0m\u001b[0;34m(\u001b[0m\u001b[0;34m\"Enter an integer number between 0 and 9 (inclusive): \"\u001b[0m\u001b[0;34m)\u001b[0m\u001b[0;34m)\u001b[0m\u001b[0;34m\u001b[0m\u001b[0;34m\u001b[0m\u001b[0m\n\u001b[0m\u001b[1;32m      7\u001b[0m                 \u001b[0;32mif\u001b[0m \u001b[0;36m0\u001b[0m \u001b[0;34m<=\u001b[0m \u001b[0mx\u001b[0m \u001b[0;34m<\u001b[0m \u001b[0;36m10\u001b[0m\u001b[0;34m:\u001b[0m\u001b[0;34m\u001b[0m\u001b[0;34m\u001b[0m\u001b[0m\n\u001b[1;32m      8\u001b[0m                     \u001b[0;32mbreak\u001b[0m\u001b[0;34m\u001b[0m\u001b[0;34m\u001b[0m\u001b[0m\n",
      "\u001b[0;32m/usr/lib/python3/dist-packages/ipykernel/kernelbase.py\u001b[0m in \u001b[0;36mraw_input\u001b[0;34m(self, prompt)\u001b[0m\n\u001b[1;32m    846\u001b[0m                 \u001b[0;34m\"raw_input was called, but this frontend does not support input requests.\"\u001b[0m\u001b[0;34m\u001b[0m\u001b[0;34m\u001b[0m\u001b[0m\n\u001b[1;32m    847\u001b[0m             )\n\u001b[0;32m--> 848\u001b[0;31m         return self._input_request(str(prompt),\n\u001b[0m\u001b[1;32m    849\u001b[0m             \u001b[0mself\u001b[0m\u001b[0;34m.\u001b[0m\u001b[0m_parent_ident\u001b[0m\u001b[0;34m,\u001b[0m\u001b[0;34m\u001b[0m\u001b[0;34m\u001b[0m\u001b[0m\n\u001b[1;32m    850\u001b[0m             \u001b[0mself\u001b[0m\u001b[0;34m.\u001b[0m\u001b[0m_parent_header\u001b[0m\u001b[0;34m,\u001b[0m\u001b[0;34m\u001b[0m\u001b[0;34m\u001b[0m\u001b[0m\n",
      "\u001b[0;32m/usr/lib/python3/dist-packages/ipykernel/kernelbase.py\u001b[0m in \u001b[0;36m_input_request\u001b[0;34m(self, prompt, ident, parent, password)\u001b[0m\n\u001b[1;32m    890\u001b[0m             \u001b[0;32mexcept\u001b[0m \u001b[0mKeyboardInterrupt\u001b[0m\u001b[0;34m:\u001b[0m\u001b[0;34m\u001b[0m\u001b[0;34m\u001b[0m\u001b[0m\n\u001b[1;32m    891\u001b[0m                 \u001b[0;31m# re-raise KeyboardInterrupt, to truncate traceback\u001b[0m\u001b[0;34m\u001b[0m\u001b[0;34m\u001b[0m\u001b[0;34m\u001b[0m\u001b[0m\n\u001b[0;32m--> 892\u001b[0;31m                 \u001b[0;32mraise\u001b[0m \u001b[0mKeyboardInterrupt\u001b[0m\u001b[0;34m(\u001b[0m\u001b[0;34m\"Interrupted by user\"\u001b[0m\u001b[0;34m)\u001b[0m \u001b[0;32mfrom\u001b[0m \u001b[0;32mNone\u001b[0m\u001b[0;34m\u001b[0m\u001b[0;34m\u001b[0m\u001b[0m\n\u001b[0m\u001b[1;32m    893\u001b[0m             \u001b[0;32mexcept\u001b[0m \u001b[0mException\u001b[0m \u001b[0;32mas\u001b[0m \u001b[0me\u001b[0m\u001b[0;34m:\u001b[0m\u001b[0;34m\u001b[0m\u001b[0;34m\u001b[0m\u001b[0m\n\u001b[1;32m    894\u001b[0m                 \u001b[0mself\u001b[0m\u001b[0;34m.\u001b[0m\u001b[0mlog\u001b[0m\u001b[0;34m.\u001b[0m\u001b[0mwarning\u001b[0m\u001b[0;34m(\u001b[0m\u001b[0;34m\"Invalid Message:\"\u001b[0m\u001b[0;34m,\u001b[0m \u001b[0mexc_info\u001b[0m\u001b[0;34m=\u001b[0m\u001b[0;32mTrue\u001b[0m\u001b[0;34m)\u001b[0m\u001b[0;34m\u001b[0m\u001b[0;34m\u001b[0m\u001b[0m\n",
      "\u001b[0;31mKeyboardInterrupt\u001b[0m: Interrupted by user"
     ]
    }
   ],
   "source": [
    "def main():\n",
    "    while True:\n",
    "      \n",
    "        while True:\n",
    "            try:\n",
    "                x = int(input(\"Enter any number between 0 and 9 (inclusive): \"))\n",
    "                if 0 <= x < 10:\n",
    "                    break\n",
    "                else:\n",
    "                    print(\"Invalid number. Please enter a number in the range [0..9].\")\n",
    "            except ValueError:\n",
    "                print(\"Invalid input. Please enter a valid integer.\")\n",
    "\n",
    "        \n",
    "        while True:\n",
    "            try:\n",
    "                max_val = int(input(\"Enter an integer number between 0 and 255 (inclusive): \"))\n",
    "                if 0 <= max_val <= 255:\n",
    "                    break\n",
    "                else:\n",
    "                    print(\"Invalid input. Please enter a number in the range [0..255].\")\n",
    "            except ValueError:\n",
    "                print(\"Invalid input. Please enter a valid integer.\")\n",
    "\n",
    "      \n",
    "        print(f\"Multiples of {x} between 0 and {max_val}:\")\n",
    "        for i in range(0, max_val + 1, x):\n",
    "            print(i)\n",
    "\n",
    "       \n",
    "        continue_prompt = input(\"Do you want to continue? (yes/no): \").strip().lower()\n",
    "        if continue_prompt != 'yes':\n",
    "            print(\"Goodbye!\")\n",
    "            break\n",
    "\n",
    "if __name__ == \"__main__\":\n",
    "    main()\n"
   ]
  },
  {
   "cell_type": "code",
   "execution_count": null,
   "id": "951d5f8c",
   "metadata": {},
   "outputs": [],
   "source": [
    "while True:\n",
    "    while True:\n",
    "        try:\n",
    "            x = int(input(\"Enter an integer number between 0 and 9 (inclusive): \"))\n",
    "            if 0 <= x < 10:\n",
    "                break\n",
    "            else:\n",
    "                print(\"Invalid input. Please enter a number in the range [0..9].\")\n",
    "        except ValueError:\n",
    "            print(\"Invalid input. Please enter a valid integer.\")\n",
    "\n",
    "    while True:\n",
    "        try:\n",
    "            max_val = int(input(\"Enter an integer number between 0 and 255 (inclusive): \"))\n",
    "            if 0 <= max_val <= 255:\n",
    "                break\n",
    "            else:\n",
    "                print(\"Invalid input. Please enter a number in the range [0..255].\")\n",
    "        except ValueError:\n",
    "            print(\"Invalid input. Please enter a valid integer.\")\n",
    "\n",
    "    print(f\"Multiples of {x} between 0 and {max_val}:\")\n",
    "    for i in range(0, max_val + 1, x):\n",
    "        print(i)\n",
    "\n",
    "    continue_prompt = input(\"Do you want to continue? (yes/no): \").strip().lower()\n",
    "    if continue_prompt != 'yes':\n",
    "        print(\"Goodbye!\")\n",
    "        break\n"
   ]
  },
  {
   "cell_type": "code",
   "execution_count": null,
   "id": "f17ef3cf",
   "metadata": {},
   "outputs": [],
   "source": []
  }
 ],
 "metadata": {
  "kernelspec": {
   "display_name": "Python 3",
   "language": "python",
   "name": "python3"
  },
  "language_info": {
   "codemirror_mode": {
    "name": "ipython",
    "version": 3
   },
   "file_extension": ".py",
   "mimetype": "text/x-python",
   "name": "python",
   "nbconvert_exporter": "python",
   "pygments_lexer": "ipython3",
   "version": "3.9.2"
  }
 },
 "nbformat": 4,
 "nbformat_minor": 5
}
